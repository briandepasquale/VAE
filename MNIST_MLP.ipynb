{
 "cells": [
  {
   "cell_type": "code",
   "execution_count": 1,
   "metadata": {},
   "outputs": [
    {
     "data": {
      "text/plain": [
       "load_test_set (generic function with 2 methods)"
      ]
     },
     "execution_count": 1,
     "metadata": {},
     "output_type": "execute_result"
    }
   ],
   "source": [
    "using TensorFlow, PyPlot, Distributions\n",
    "include(Pkg.dir(\"TensorFlow\", \"examples\", \"mnist_loader.jl\"))"
   ]
  },
  {
   "cell_type": "code",
   "execution_count": 2,
   "metadata": {},
   "outputs": [
    {
     "data": {
      "text/plain": [
       "max_pool_2x2 (generic function with 1 method)"
      ]
     },
     "execution_count": 2,
     "metadata": {},
     "output_type": "execute_result"
    }
   ],
   "source": [
    "function weight_variable(shape)\n",
    "    initial = map(Float32, rand(Normal(0, .001), shape...))\n",
    "    return Variable(initial)\n",
    "end\n",
    "\n",
    "function bias_variable(shape)\n",
    "    initial = fill(Float32(.1), shape...)\n",
    "    return Variable(initial)\n",
    "end\n",
    "\n",
    "function conv2d(x, W)\n",
    "    nn.conv2d(x, W, [1, 1, 1, 1], \"SAME\")\n",
    "end\n",
    "\n",
    "function max_pool_2x2(x)\n",
    "    nn.max_pool(x, [1, 2, 2, 1], [1, 2, 2, 1], \"SAME\")\n",
    "end"
   ]
  },
  {
   "cell_type": "code",
   "execution_count": 3,
   "metadata": {},
   "outputs": [
    {
     "name": "stderr",
     "output_type": "stream",
     "text": [
      "2018-11-28 14:08:20.593211: I tensorflow/core/platform/cpu_feature_guard.cc:140] Your CPU supports instructions that this TensorFlow binary was not compiled to use: SSE4.1 SSE4.2 AVX AVX2 AVX512F FMA\n"
     ]
    },
    {
     "data": {
      "text/plain": [
       "Session(Ptr{Void} @0x00007fa453239f90)"
      ]
     },
     "execution_count": 3,
     "metadata": {},
     "output_type": "execute_result"
    }
   ],
   "source": [
    "loader = DataLoader()\n",
    "session = Session(Graph())"
   ]
  },
  {
   "cell_type": "code",
   "execution_count": 4,
   "metadata": {},
   "outputs": [],
   "source": [
    "x = placeholder(Float32)\n",
    "y_ = placeholder(Float32)\n",
    "\n",
    "W_conv1 = weight_variable([5, 5, 1, 32])\n",
    "b_conv1 = bias_variable([32])\n",
    "\n",
    "x_image = reshape(x, [-1, 28, 28, 1])\n",
    "\n",
    "h_conv1 = nn.relu(conv2d(x_image, W_conv1) + b_conv1)\n",
    "h_pool1 = max_pool_2x2(h_conv1)\n",
    "\n",
    "W_conv2 = weight_variable([5, 5, 32, 64])\n",
    "b_conv2 = bias_variable([64])\n",
    "\n",
    "h_conv2 = nn.relu(conv2d(h_pool1, W_conv2) + b_conv2)\n",
    "h_pool2 = max_pool_2x2(h_conv2)\n",
    "\n",
    "W_fc1 = weight_variable([7*7*64, 1024])\n",
    "b_fc1 = bias_variable([1024])\n",
    "\n",
    "h_pool2_flat = reshape(h_pool2, [-1, 7*7*64])\n",
    "h_fc1 = nn.relu(h_pool2_flat * W_fc1 + b_fc1)\n",
    "\n",
    "keep_prob = placeholder(Float32)\n",
    "h_fc1_drop = nn.dropout(h_fc1, keep_prob)\n",
    "\n",
    "W_fc2 = weight_variable([1024, 10])\n",
    "b_fc2 = bias_variable([10])\n",
    "\n",
    "y_conv = nn.softmax(h_fc1_drop * W_fc2 + b_fc2)\n",
    "\n",
    "cross_entropy = reduce_mean(-reduce_sum(y_.*log(y_conv), axis=[2]))\n",
    "\n",
    "train_step = train.minimize(train.AdamOptimizer(1e-4), cross_entropy)\n",
    "\n",
    "#correct_prediction = indmax(y_conv, 2) .== indmax(y_, 2)\n",
    "correct_prediction = equal(indmax(y_conv, 2), indmax(y_, 2))\n",
    "\n",
    "accuracy = reduce_mean(cast(correct_prediction, Float32))\n",
    "\n",
    "run(session, global_variables_initializer())"
   ]
  },
  {
   "cell_type": "code",
   "execution_count": null,
   "metadata": {},
   "outputs": [
    {
     "name": "stderr",
     "output_type": "stream",
     "text": [
      "\u001b[1m\u001b[36mINFO: \u001b[39m\u001b[22m\u001b[36mstep 1, training accuracy 0.14\n",
      "\u001b[39m\u001b[1m\u001b[36mINFO: \u001b[39m\u001b[22m\u001b[36mstep 101, training accuracy 0.9\n",
      "\u001b[39m\u001b[1m\u001b[36mINFO: \u001b[39m\u001b[22m\u001b[36mstep 201, training accuracy 0.92\n",
      "\u001b[39m\u001b[1m\u001b[36mINFO: \u001b[39m\u001b[22m\u001b[36mstep 301, training accuracy 0.9\n",
      "\u001b[39m\u001b[1m\u001b[36mINFO: \u001b[39m\u001b[22m\u001b[36mstep 401, training accuracy 0.94\n",
      "\u001b[39m\u001b[1m\u001b[36mINFO: \u001b[39m\u001b[22m\u001b[36mstep 501, training accuracy 0.98\n",
      "\u001b[39m\u001b[1m\u001b[36mINFO: \u001b[39m\u001b[22m\u001b[36mstep 601, training accuracy 0.98\n",
      "\u001b[39m"
     ]
    }
   ],
   "source": [
    "for i in 1:1000\n",
    "    batch = next_batch(loader, 50)\n",
    "    if i%100 == 1\n",
    "        train_accuracy = run(session, accuracy, Dict(x=>batch[1], y_=>batch[2], keep_prob=>1.0))\n",
    "        info(\"step $i, training accuracy $train_accuracy\")\n",
    "    end\n",
    "    run(session, train_step, Dict(x=>batch[1], y_=>batch[2], keep_prob=>.5))\n",
    "end"
   ]
  },
  {
   "cell_type": "code",
   "execution_count": null,
   "metadata": {},
   "outputs": [],
   "source": [
    "testx, testy = load_test_set()\n",
    "test_accuracy = run(session, accuracy, Dict(x=>testx, y_=>testy, keep_prob=>1.0))\n",
    "info(\"test accuracy $test_accuracy\")"
   ]
  },
  {
   "cell_type": "code",
   "execution_count": 49,
   "metadata": {},
   "outputs": [
    {
     "name": "stderr",
     "output_type": "stream",
     "text": [
      "2018-11-25 19:48:51.154371: I tensorflow/core/platform/cpu_feature_guard.cc:140] Your CPU supports instructions that this TensorFlow binary was not compiled to use: AVX2 AVX512F FMA\n",
      "TensorBoard 1.8.0 at http://scotty.pni.Princeton.EDU:6008 (Press CTRL+C to quit)\n",
      "2018-11-25 19:48:53.818721: I tensorflow/core/platform/cpu_feature_guard.cc:140] Your CPU supports instructions that this TensorFlow binary was not compiled to use: AVX2 AVX512F FMA\n",
      "TensorBoard 1.8.0 at http://scotty.pni.Princeton.EDU:6009 (Press CTRL+C to quit)\n"
     ]
    },
    {
     "name": "stdout",
     "output_type": "stream",
     "text": [
      "START /usr/bin/firefox \"http://localhost:6009/#graphs\"\n",
      "Running without a11y support!\n"
     ]
    },
    {
     "name": "stderr",
     "output_type": "stream",
     "text": [
      "Failed to open connection to \"session\" message bus: Using X11 for dbus-daemon autolaunch was disabled at compile time, set your DBUS_SESSION_BUS_ADDRESS instead\n",
      "/usr/lib64/firefox/firefox: symbol lookup error: /lib64/libgtk-3.so.0: undefined symbol: g_log_structured_standard\n",
      "xdg-open: no method available for opening 'http://localhost:6009/#graphs'\n"
     ]
    },
    {
     "ename": "LoadError",
     "evalue": "\u001b[91mfailed process: Process(`xdg-open 'http://localhost:6009/#graphs'`, ProcessExited(3)) [3]\u001b[39m",
     "output_type": "error",
     "traceback": [
      "\u001b[91mfailed process: Process(`xdg-open 'http://localhost:6009/#graphs'`, ProcessExited(3)) [3]\u001b[39m",
      "",
      "Stacktrace:",
      " [1] \u001b[1mpipeline_error\u001b[22m\u001b[22m\u001b[1m(\u001b[22m\u001b[22m::Base.Process\u001b[1m)\u001b[22m\u001b[22m at \u001b[1m./process.jl:682\u001b[22m\u001b[22m",
      " [2] \u001b[1mrun\u001b[22m\u001b[22m\u001b[1m(\u001b[22m\u001b[22m::Cmd\u001b[1m)\u001b[22m\u001b[22m at \u001b[1m./process.jl:651\u001b[22m\u001b[22m",
      " [3] \u001b[1mopen_url\u001b[22m\u001b[22m\u001b[1m(\u001b[22m\u001b[22m::String\u001b[1m)\u001b[22m\u001b[22m at \u001b[1m/mnt/bucket/people/briandd/.conda/envs/julia/share/julia/site/v0.6/TensorFlow/src/show.jl:196\u001b[22m\u001b[22m",
      " [4] \u001b[1mvisualize\u001b[22m\u001b[22m\u001b[1m(\u001b[22m\u001b[22m::TensorFlow.summary.FileWriter\u001b[1m)\u001b[22m\u001b[22m at \u001b[1m/mnt/bucket/people/briandd/.conda/envs/julia/share/julia/site/v0.6/TensorFlow/src/show.jl:218\u001b[22m\u001b[22m",
      " [5] \u001b[1mvisualize\u001b[22m\u001b[22m\u001b[1m(\u001b[22m\u001b[22m::TensorFlow.Graph\u001b[1m)\u001b[22m\u001b[22m at \u001b[1m/mnt/bucket/people/briandd/.conda/envs/julia/share/julia/site/v0.6/TensorFlow/src/show.jl:212\u001b[22m\u001b[22m",
      " [6] \u001b[1mvisualize\u001b[22m\u001b[22m\u001b[1m(\u001b[22m\u001b[22m\u001b[1m)\u001b[22m\u001b[22m at \u001b[1m/mnt/bucket/people/briandd/.conda/envs/julia/share/julia/site/v0.6/TensorFlow/src/core.jl:291\u001b[22m\u001b[22m"
     ]
    }
   ],
   "source": [
    "visualize()"
   ]
  },
  {
   "cell_type": "code",
   "execution_count": null,
   "metadata": {},
   "outputs": [],
   "source": []
  }
 ],
 "metadata": {
  "kernelspec": {
   "display_name": "Julia 0.6.1",
   "language": "julia",
   "name": "julia-0.6"
  },
  "language_info": {
   "file_extension": ".jl",
   "mimetype": "application/julia",
   "name": "julia",
   "version": "0.6.1"
  }
 },
 "nbformat": 4,
 "nbformat_minor": 2
}
